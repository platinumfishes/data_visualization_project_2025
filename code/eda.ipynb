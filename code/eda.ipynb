{
 "cells": [
  {
   "cell_type": "code",
   "execution_count": 1,
   "metadata": {},
   "outputs": [
    {
     "ename": "NameError",
     "evalue": "name 'incidents' is not defined",
     "output_type": "error",
     "traceback": [
      "\u001b[0;31m---------------------------------------------------------------------------\u001b[0m",
      "\u001b[0;31mNameError\u001b[0m                                 Traceback (most recent call last)",
      "Cell \u001b[0;32mIn[1], line 7\u001b[0m\n\u001b[1;32m      3\u001b[0m \u001b[38;5;28;01mimport\u001b[39;00m \u001b[38;5;21;01mmatplotlib\u001b[39;00m\u001b[38;5;21;01m.\u001b[39;00m\u001b[38;5;21;01mpyplot\u001b[39;00m \u001b[38;5;28;01mas\u001b[39;00m \u001b[38;5;21;01mplt\u001b[39;00m\n\u001b[1;32m      5\u001b[0m \u001b[38;5;66;03m# 1. Prepare data\u001b[39;00m\n\u001b[1;32m      6\u001b[0m incident_counts \u001b[38;5;241m=\u001b[39m (\n\u001b[0;32m----> 7\u001b[0m     incidents[incidents[\u001b[38;5;124m'\u001b[39m\u001b[38;5;124mCountry\u001b[39m\u001b[38;5;124m'\u001b[39m]\u001b[38;5;241m.\u001b[39mnotna()]\n\u001b[1;32m      8\u001b[0m     \u001b[38;5;241m.\u001b[39mgroupby(\u001b[38;5;124m'\u001b[39m\u001b[38;5;124mCountry\u001b[39m\u001b[38;5;124m'\u001b[39m)\u001b[38;5;241m.\u001b[39msize()\n\u001b[1;32m      9\u001b[0m     \u001b[38;5;241m.\u001b[39mreset_index(name\u001b[38;5;241m=\u001b[39m\u001b[38;5;124m'\u001b[39m\u001b[38;5;124mIncidents\u001b[39m\u001b[38;5;124m'\u001b[39m)\n\u001b[1;32m     10\u001b[0m     \u001b[38;5;241m.\u001b[39mreplace({\n\u001b[1;32m     11\u001b[0m         \u001b[38;5;124m'\u001b[39m\u001b[38;5;124mDR Congo\u001b[39m\u001b[38;5;124m'\u001b[39m: \u001b[38;5;124m'\u001b[39m\u001b[38;5;124mDemocratic Republic of the Congo\u001b[39m\u001b[38;5;124m'\u001b[39m,\n\u001b[1;32m     12\u001b[0m         \u001b[38;5;124m'\u001b[39m\u001b[38;5;124mCote D\u001b[39m\u001b[38;5;130;01m\\'\u001b[39;00m\u001b[38;5;124mIvoire\u001b[39m\u001b[38;5;124m'\u001b[39m: \u001b[38;5;124m'\u001b[39m\u001b[38;5;124mIvory Coast\u001b[39m\u001b[38;5;124m'\u001b[39m\n\u001b[1;32m     13\u001b[0m     })\n\u001b[1;32m     14\u001b[0m )\n\u001b[1;32m     16\u001b[0m \u001b[38;5;66;03m# 2. Get world map\u001b[39;00m\n\u001b[1;32m     17\u001b[0m world \u001b[38;5;241m=\u001b[39m gpd\u001b[38;5;241m.\u001b[39mread_file(gpd\u001b[38;5;241m.\u001b[39mdatasets\u001b[38;5;241m.\u001b[39mget_path(\u001b[38;5;124m'\u001b[39m\u001b[38;5;124mnaturalearth_lowres\u001b[39m\u001b[38;5;124m'\u001b[39m))\n",
      "\u001b[0;31mNameError\u001b[0m: name 'incidents' is not defined"
     ]
    }
   ],
   "source": [
    "import geopandas as gpd\n",
    "import pandas as pd\n",
    "import matplotlib.pyplot as plt\n",
    "\n",
    "# 1. Prepare data\n",
    "incident_counts = (\n",
    "    incidents[incidents['Country'].notna()]\n",
    "    .groupby('Country').size()\n",
    "    .reset_index(name='Incidents')\n",
    "    .replace({\n",
    "        'DR Congo': 'Democratic Republic of the Congo',\n",
    "        'Cote D\\'Ivoire': 'Ivory Coast'\n",
    "    })\n",
    ")\n",
    "\n",
    "# 2. Get world map\n",
    "world = gpd.read_file(gpd.datasets.get_path('naturalearth_lowres'))\n",
    "\n",
    "# 3. Merge and plot\n",
    "world = world.merge(\n",
    "    incident_counts,\n",
    "    left_on='name',\n",
    "    right_on='Country',\n",
    "    how='left'\n",
    ")\n",
    "\n",
    "fig, ax = plt.subplots(1, 1, figsize=(15, 10))\n",
    "world.plot(\n",
    "    column='Incidents',\n",
    "    cmap='magma',\n",
    "    missing_kwds={'color': 'lightgray'},\n",
    "    linewidth=0.5,\n",
    "    ax=ax,\n",
    "    legend=True,\n",
    "    scheme='natural_breaks',\n",
    "    legend_kwds={\n",
    "        'label': \"Number of Incidents\",\n",
    "        'orientation': \"horizontal\",\n",
    "        'shrink': 0.5\n",
    "    }\n",
    ")\n",
    "\n",
    "ax.set_title(\n",
    "    \"Humanitarian Worker Attacks (1997-2006)\\n\",\n",
    "    fontdict={'fontsize': 16, 'fontweight': 'bold'}\n",
    ")\n",
    "ax.set_axis_off()\n",
    "plt.tight_layout()\n",
    "plt.savefig('assets/landing_map.png', dpi=300, bbox_inches='tight')"
   ]
  }
 ],
 "metadata": {
  "kernelspec": {
   "display_name": "web_api",
   "language": "python",
   "name": "python3"
  },
  "language_info": {
   "codemirror_mode": {
    "name": "ipython",
    "version": 3
   },
   "file_extension": ".py",
   "mimetype": "text/x-python",
   "name": "python",
   "nbconvert_exporter": "python",
   "pygments_lexer": "ipython3",
   "version": "3.12.9"
  }
 },
 "nbformat": 4,
 "nbformat_minor": 2
}
