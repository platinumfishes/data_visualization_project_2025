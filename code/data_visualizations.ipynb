{
 "cells": [
  {
   "cell_type": "markdown",
   "metadata": {},
   "source": [
    "# Insights\n",
    "\n",
    "### Section 1"
   ]
  },
  {
   "cell_type": "code",
   "execution_count": 1,
   "metadata": {
    "vscode": {
     "languageId": "r"
    }
   },
   "outputs": [
    {
     "name": "stderr",
     "output_type": "stream",
     "text": [
      "Installing package into ‘/home/platinumfish/R/x86_64-pc-linux-gnu-library/4.3’\n",
      "(as ‘lib’ is unspecified)\n",
      "\n",
      "also installing the dependency ‘units’\n",
      "\n",
      "\n",
      "Warning message in install.packages(\"sf\"):\n",
      "“installation of package ‘units’ had non-zero exit status”\n",
      "Warning message in install.packages(\"sf\"):\n",
      "“installation of package ‘sf’ had non-zero exit status”\n",
      "Installing package into ‘/home/platinumfish/R/x86_64-pc-linux-gnu-library/4.3’\n",
      "(as ‘lib’ is unspecified)\n",
      "\n",
      "also installing the dependencies ‘terra’, ‘promises’, ‘raster’, ‘lwgeom’, ‘httpuv’, ‘leafem’, ‘leafgl’, ‘leaflegend’, ‘leaflet’, ‘leafsync’, ‘sf’, ‘stars’, ‘tmaptools’, ‘units’, ‘servr’\n",
      "\n",
      "\n",
      "Warning message in install.packages(\"tmap\"):\n",
      "“installation of package ‘terra’ had non-zero exit status”\n",
      "Warning message in install.packages(\"tmap\"):\n",
      "“installation of package ‘promises’ had non-zero exit status”\n",
      "Warning message in install.packages(\"tmap\"):\n",
      "“installation of package ‘units’ had non-zero exit status”\n",
      "Warning message in install.packages(\"tmap\"):\n",
      "“installation of package ‘raster’ had non-zero exit status”\n",
      "Warning message in install.packages(\"tmap\"):\n",
      "“installation of package ‘httpuv’ had non-zero exit status”\n",
      "Warning message in install.packages(\"tmap\"):\n",
      "“installation of package ‘sf’ had non-zero exit status”\n",
      "Warning message in install.packages(\"tmap\"):\n",
      "“installation of package ‘lwgeom’ had non-zero exit status”\n",
      "Warning message in install.packages(\"tmap\"):\n",
      "“installation of package ‘leaflet’ had non-zero exit status”\n",
      "Warning message in install.packages(\"tmap\"):\n",
      "“installation of package ‘stars’ had non-zero exit status”\n",
      "Warning message in install.packages(\"tmap\"):\n",
      "“installation of package ‘servr’ had non-zero exit status”\n",
      "Warning message in install.packages(\"tmap\"):\n",
      "“installation of package ‘leafem’ had non-zero exit status”\n",
      "Warning message in install.packages(\"tmap\"):\n",
      "“installation of package ‘leafgl’ had non-zero exit status”\n",
      "Warning message in install.packages(\"tmap\"):\n",
      "“installation of package ‘leaflegend’ had non-zero exit status”\n",
      "Warning message in install.packages(\"tmap\"):\n",
      "“installation of package ‘leafsync’ had non-zero exit status”\n",
      "Warning message in install.packages(\"tmap\"):\n",
      "“installation of package ‘tmaptools’ had non-zero exit status”\n",
      "Warning message in install.packages(\"tmap\"):\n",
      "“installation of package ‘tmap’ had non-zero exit status”\n"
     ]
    },
    {
     "ename": "ERROR",
     "evalue": "Error in library(sf): there is no package called ‘sf’\n",
     "output_type": "error",
     "traceback": [
      "Error in library(sf): there is no package called ‘sf’\nTraceback:\n",
      "1. stop(packageNotFoundError(package, lib.loc, sys.call()))"
     ]
    }
   ],
   "source": [
    "install.packages(\"sf\")\n",
    "install.packages(\"tmap\")\n",
    "library(sf)\n",
    "\n",
    "# Define shapefile path\n",
    "shapefile_path <- \"../data/cb_2023_us_county_500k/cb_2023_us_county_500k.shp\"\n",
    "\n",
    "# Read the shapefile\n",
    "gdf <- st_read(shapefile_path)\n",
    "\n",
    "# Check the first few rows and columns\n",
    "head(gdf)"
   ]
  }
 ],
 "metadata": {
  "kernelspec": {
   "display_name": "R",
   "language": "R",
   "name": "ir"
  },
  "language_info": {
   "codemirror_mode": "r",
   "file_extension": ".r",
   "mimetype": "text/x-r-source",
   "name": "R",
   "pygments_lexer": "r",
   "version": "4.3.3"
  }
 },
 "nbformat": 4,
 "nbformat_minor": 2
}
