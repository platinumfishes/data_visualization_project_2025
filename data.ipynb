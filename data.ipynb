{
 "cells": [
  {
   "cell_type": "markdown",
   "metadata": {},
   "source": [
    "# Data Sources\n",
    "\n",
    "This project integrates data from multiple federal sources to explore broadband access, availability, and equity in the United States.\n",
    "\n",
    "## American Community Survey (ACS) – 5-Year Estimates (2022)\n",
    "- **Source**: U.S. Census Bureau\n",
    "- **URL**: [https://www.census.gov/data/developers/data-sets/acs-5year.html](https://www.census.gov/data/developers/data-sets/acs-5year.html)\n",
    "- **Used for**:\n",
    "  - Total population and household counts\n",
    "  - Broadband access and computer ownership\n",
    "  - Income, education levels\n",
    "  - Race and ethnicity by county\n",
    "\n",
    "## FCC Form 477 – County-Level Internet Access Data (Dec 2023)\n",
    "- **Source**: Federal Communications Commission\n",
    "- **URL**: [https://www.fcc.gov/form-477-county-data-internet-access-services](https://www.fcc.gov/form-477-county-data-internet-access-services)\n",
    "- **Used for**:\n",
    "  - Residential and total fixed broadband connections\n",
    "  - Speed tier adoption (e.g. ≥25 Mbps, ≥100 Mbps)\n",
    "\n",
    "## FCC Form 477 – County-Level Connection Data (Dec 2023)\n",
    "- **Source**: Federal Communications Commission\n",
    "- **URL**: [https://www.fcc.gov/form-477-county-data-internet-access-services](https://www.fcc.gov/form-477-county-data-internet-access-services)\n",
    "- **Used for**:\n",
    "  - Number of broadband connections (residential and non-residential)\n",
    "  - Historical tracking of connection trends\n",
    "\n",
    "## U.S. Census Bureau – Race and Ethnicity Definitions\n",
    "- **Tables Used**:\n",
    "  - `B02001`: Race\n",
    "  - `B03003`: Hispanic or Latino Origin\n",
    "- **Definitions follow federal standards on race/ethnicity reporting**\n",
    "\n",
    "All data was retrieved via the U.S. Census Bureau API or from FCC bulk downloads and merged using county FIPS codes for consistency.\n"
   ]
  }
 ],
 "metadata": {
  "language_info": {
   "name": "python"
  }
 },
 "nbformat": 4,
 "nbformat_minor": 2
}
